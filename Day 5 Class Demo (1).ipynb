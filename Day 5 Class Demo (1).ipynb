{
 "cells": [
  {
   "cell_type": "markdown",
   "metadata": {},
   "source": [
    "### Comparison Operators & Boolean Operators"
   ]
  },
  {
   "cell_type": "code",
   "execution_count": 1,
   "metadata": {},
   "outputs": [
    {
     "data": {
      "text/plain": [
       "False"
      ]
     },
     "execution_count": 1,
     "metadata": {},
     "output_type": "execute_result"
    }
   ],
   "source": [
    "123 < 123.0"
   ]
  },
  {
   "cell_type": "code",
   "execution_count": 2,
   "metadata": {},
   "outputs": [
    {
     "ename": "TypeError",
     "evalue": "'<' not supported between instances of 'str' and 'int'",
     "output_type": "error",
     "traceback": [
      "\u001b[1;31m---------------------------------------------------------------------------\u001b[0m",
      "\u001b[1;31mTypeError\u001b[0m                                 Traceback (most recent call last)",
      "\u001b[1;32m<ipython-input-2-94c1d4884475>\u001b[0m in \u001b[0;36m<module>\u001b[1;34m\u001b[0m\n\u001b[1;32m----> 1\u001b[1;33m \u001b[1;34m\"123\"\u001b[0m \u001b[1;33m<\u001b[0m \u001b[1;36m123\u001b[0m\u001b[1;33m\u001b[0m\u001b[1;33m\u001b[0m\u001b[0m\n\u001b[0m",
      "\u001b[1;31mTypeError\u001b[0m: '<' not supported between instances of 'str' and 'int'"
     ]
    }
   ],
   "source": [
    "\"123\" < 123"
   ]
  },
  {
   "cell_type": "code",
   "execution_count": 3,
   "metadata": {},
   "outputs": [
    {
     "data": {
      "text/plain": [
       "False"
      ]
     },
     "execution_count": 3,
     "metadata": {},
     "output_type": "execute_result"
    }
   ],
   "source": [
    "\"message\" < \"mess\""
   ]
  },
  {
   "cell_type": "code",
   "execution_count": 1,
   "metadata": {},
   "outputs": [
    {
     "data": {
      "text/plain": [
       "True"
      ]
     },
     "execution_count": 1,
     "metadata": {},
     "output_type": "execute_result"
    }
   ],
   "source": [
    "\"pamela\" > \"pam\""
   ]
  },
  {
   "cell_type": "code",
   "execution_count": 4,
   "metadata": {},
   "outputs": [
    {
     "data": {
      "text/plain": [
       "True"
      ]
     },
     "execution_count": 4,
     "metadata": {},
     "output_type": "execute_result"
    }
   ],
   "source": [
    "\"Message\" < \"message\""
   ]
  },
  {
   "cell_type": "code",
   "execution_count": 5,
   "metadata": {},
   "outputs": [
    {
     "data": {
      "text/plain": [
       "True"
      ]
     },
     "execution_count": 5,
     "metadata": {},
     "output_type": "execute_result"
    }
   ],
   "source": [
    "\"pie\" in \"apple pie\""
   ]
  },
  {
   "cell_type": "code",
   "execution_count": 6,
   "metadata": {},
   "outputs": [
    {
     "data": {
      "text/plain": [
       "False"
      ]
     },
     "execution_count": 6,
     "metadata": {},
     "output_type": "execute_result"
    }
   ],
   "source": [
    "\"in\" not in \"Be comfortable in uncertain situations\""
   ]
  },
  {
   "cell_type": "code",
   "execution_count": 4,
   "metadata": {},
   "outputs": [
    {
     "data": {
      "text/plain": [
       "True"
      ]
     },
     "execution_count": 4,
     "metadata": {},
     "output_type": "execute_result"
    }
   ],
   "source": [
    "\"wi\" in \"I hope everything is fine between me and my wife\""
   ]
  },
  {
   "cell_type": "code",
   "execution_count": 29,
   "metadata": {},
   "outputs": [
    {
     "data": {
      "text/plain": [
       "2"
      ]
     },
     "execution_count": 29,
     "metadata": {},
     "output_type": "execute_result"
    }
   ],
   "source": [
    "\"Be comfortable in uncertain situations\".count(\"ta\")\n",
    "                                        "
   ]
  },
  {
   "cell_type": "code",
   "execution_count": 31,
   "metadata": {},
   "outputs": [
    {
     "data": {
      "text/plain": [
       "False"
      ]
     },
     "execution_count": 31,
     "metadata": {},
     "output_type": "execute_result"
    }
   ],
   "source": [
    "age = 5\n",
    "age == 18"
   ]
  },
  {
   "cell_type": "code",
   "execution_count": 5,
   "metadata": {},
   "outputs": [
    {
     "data": {
      "text/plain": [
       "True"
      ]
     },
     "execution_count": 5,
     "metadata": {},
     "output_type": "execute_result"
    }
   ],
   "source": [
    "qty = 10\n",
    "qty != 0"
   ]
  },
  {
   "cell_type": "raw",
   "metadata": {},
   "source": [
    "result = age == 18\n",
    "print(result)"
   ]
  },
  {
   "cell_type": "code",
   "execution_count": 11,
   "metadata": {},
   "outputs": [
    {
     "data": {
      "text/plain": [
       "False"
      ]
     },
     "execution_count": 11,
     "metadata": {},
     "output_type": "execute_result"
    }
   ],
   "source": [
    "age >= 65 and city == \"Gaithersburg\""
   ]
  },
  {
   "cell_type": "code",
   "execution_count": 12,
   "metadata": {},
   "outputs": [
    {
     "ename": "NameError",
     "evalue": "name 'city' is not defined",
     "output_type": "error",
     "traceback": [
      "\u001b[1;31m---------------------------------------------------------------------------\u001b[0m",
      "\u001b[1;31mNameError\u001b[0m                                 Traceback (most recent call last)",
      "\u001b[1;32m<ipython-input-12-7d93cc53d568>\u001b[0m in \u001b[0;36m<module>\u001b[1;34m\u001b[0m\n\u001b[1;32m----> 1\u001b[1;33m \u001b[0mprint\u001b[0m\u001b[1;33m(\u001b[0m\u001b[0mcity\u001b[0m\u001b[1;33m)\u001b[0m\u001b[1;33m\u001b[0m\u001b[1;33m\u001b[0m\u001b[0m\n\u001b[0m",
      "\u001b[1;31mNameError\u001b[0m: name 'city' is not defined"
     ]
    }
   ],
   "source": [
    "print(city)"
   ]
  },
  {
   "cell_type": "code",
   "execution_count": 13,
   "metadata": {},
   "outputs": [
    {
     "data": {
      "text/plain": [
       "True"
      ]
     },
     "execution_count": 13,
     "metadata": {},
     "output_type": "execute_result"
    }
   ],
   "source": [
    "city = \"Gaithersburg\"\n",
    "state = \"MD\"\n",
    "\n",
    "age >= 65 or city == \"Gaithersburg\""
   ]
  },
  {
   "cell_type": "code",
   "execution_count": 14,
   "metadata": {},
   "outputs": [
    {
     "data": {
      "text/plain": [
       "True"
      ]
     },
     "execution_count": 14,
     "metadata": {},
     "output_type": "execute_result"
    }
   ],
   "source": [
    "age >= 65 and city == \"Gaithersburg\" or not result"
   ]
  },
  {
   "cell_type": "code",
   "execution_count": 15,
   "metadata": {},
   "outputs": [
    {
     "data": {
      "text/plain": [
       "False"
      ]
     },
     "execution_count": 15,
     "metadata": {},
     "output_type": "execute_result"
    }
   ],
   "source": [
    "False and True   # age >= 65 and city == \"Gaithersburg\""
   ]
  },
  {
   "cell_type": "code",
   "execution_count": 16,
   "metadata": {},
   "outputs": [
    {
     "data": {
      "text/plain": [
       "True"
      ]
     },
     "execution_count": 16,
     "metadata": {},
     "output_type": "execute_result"
    }
   ],
   "source": [
    "not result"
   ]
  },
  {
   "cell_type": "code",
   "execution_count": 17,
   "metadata": {},
   "outputs": [
    {
     "data": {
      "text/plain": [
       "True"
      ]
     },
     "execution_count": 17,
     "metadata": {},
     "output_type": "execute_result"
    }
   ],
   "source": [
    "False or True   # (age >= 65 and city == \"Gaithersburg\") or not result"
   ]
  },
  {
   "cell_type": "code",
   "execution_count": 18,
   "metadata": {},
   "outputs": [
    {
     "data": {
      "text/plain": [
       "False"
      ]
     },
     "execution_count": 18,
     "metadata": {},
     "output_type": "execute_result"
    }
   ],
   "source": [
    "age >= 65 and (city == \"Gaithersburg\" or not result)  # False and ?"
   ]
  },
  {
   "cell_type": "code",
   "execution_count": 19,
   "metadata": {},
   "outputs": [
    {
     "name": "stdout",
     "output_type": "stream",
     "text": [
      "Gaithersburg\n"
     ]
    }
   ],
   "source": [
    "print(city)"
   ]
  },
  {
   "cell_type": "code",
   "execution_count": 20,
   "metadata": {},
   "outputs": [
    {
     "data": {
      "text/plain": [
       "True"
      ]
     },
     "execution_count": 20,
     "metadata": {},
     "output_type": "execute_result"
    }
   ],
   "source": [
    "city.lower() == \"gaithersburg\""
   ]
  },
  {
   "cell_type": "code",
   "execution_count": 21,
   "metadata": {},
   "outputs": [
    {
     "data": {
      "text/plain": [
       "True"
      ]
     },
     "execution_count": 21,
     "metadata": {},
     "output_type": "execute_result"
    }
   ],
   "source": [
    "city.upper() == \"gaithersburg\".upper()"
   ]
  },
  {
   "cell_type": "code",
   "execution_count": 22,
   "metadata": {},
   "outputs": [
    {
     "data": {
      "text/plain": [
       "False"
      ]
     },
     "execution_count": 22,
     "metadata": {},
     "output_type": "execute_result"
    }
   ],
   "source": [
    "0 or False"
   ]
  },
  {
   "cell_type": "code",
   "execution_count": 23,
   "metadata": {},
   "outputs": [
    {
     "data": {
      "text/plain": [
       "True"
      ]
     },
     "execution_count": 23,
     "metadata": {},
     "output_type": "execute_result"
    }
   ],
   "source": [
    "1 and True"
   ]
  },
  {
   "cell_type": "code",
   "execution_count": 27,
   "metadata": {},
   "outputs": [
    {
     "name": "stdout",
     "output_type": "stream",
     "text": [
      "False\n",
      "0\n"
     ]
    }
   ],
   "source": [
    "print(bool(\"\"))\n",
    "print(len(\"\"))"
   ]
  },
  {
   "cell_type": "code",
   "execution_count": 29,
   "metadata": {},
   "outputs": [
    {
     "name": "stdout",
     "output_type": "stream",
     "text": [
      "False\n",
      "False\n"
     ]
    }
   ],
   "source": [
    "print(bool(len(\"\")))   # \n",
    "print(bool(0))"
   ]
  },
  {
   "cell_type": "code",
   "execution_count": 26,
   "metadata": {},
   "outputs": [
    {
     "data": {
      "text/plain": [
       "True"
      ]
     },
     "execution_count": 26,
     "metadata": {},
     "output_type": "execute_result"
    }
   ],
   "source": [
    "bool(\" \")"
   ]
  },
  {
   "cell_type": "code",
   "execution_count": 24,
   "metadata": {},
   "outputs": [
    {
     "data": {
      "text/plain": [
       "True"
      ]
     },
     "execution_count": 24,
     "metadata": {},
     "output_type": "execute_result"
    }
   ],
   "source": [
    "bool(\"abc\")"
   ]
  },
  {
   "cell_type": "code",
   "execution_count": 28,
   "metadata": {},
   "outputs": [
    {
     "data": {
      "text/plain": [
       "False"
      ]
     },
     "execution_count": 28,
     "metadata": {},
     "output_type": "execute_result"
    }
   ],
   "source": [
    "bool(None)"
   ]
  },
  {
   "cell_type": "markdown",
   "metadata": {},
   "source": [
    "### Bitwise Operators\n",
    "    &    :  and\n",
    "    |    :  or\n",
    "    ^    :  xor\n",
    "    ~    :  not\n",
    "    <<   :  shift to left\n",
    "    >>   :  shift to right "
   ]
  },
  {
   "cell_type": "code",
   "execution_count": 5,
   "metadata": {},
   "outputs": [
    {
     "data": {
      "text/plain": [
       "17"
      ]
     },
     "execution_count": 5,
     "metadata": {},
     "output_type": "execute_result"
    }
   ],
   "source": [
    "a = 49    # 0011 0001\n",
    "b = 19    # 0001 0011\n",
    "\n",
    "a & b"
   ]
  },
  {
   "cell_type": "code",
   "execution_count": 6,
   "metadata": {},
   "outputs": [
    {
     "data": {
      "text/plain": [
       "'0b10001'"
      ]
     },
     "execution_count": 6,
     "metadata": {},
     "output_type": "execute_result"
    }
   ],
   "source": [
    "# convert integer to bits\n",
    "\n",
    "bin(17)    # 0001 0001"
   ]
  },
  {
   "cell_type": "code",
   "execution_count": 34,
   "metadata": {},
   "outputs": [
    {
     "data": {
      "text/plain": [
       "'0b100'"
      ]
     },
     "execution_count": 34,
     "metadata": {},
     "output_type": "execute_result"
    }
   ],
   "source": [
    "bin(4)"
   ]
  },
  {
   "cell_type": "code",
   "execution_count": null,
   "metadata": {},
   "outputs": [],
   "source": []
  },
  {
   "cell_type": "code",
   "execution_count": 7,
   "metadata": {},
   "outputs": [
    {
     "name": "stdout",
     "output_type": "stream",
     "text": [
      "10001\n"
     ]
    }
   ],
   "source": [
    "# or use string format to convert integer to bits\n",
    "\n",
    "binary = \"{0:b}\".format(17)\n",
    "print(binary)"
   ]
  },
  {
   "cell_type": "code",
   "execution_count": 42,
   "metadata": {},
   "outputs": [
    {
     "name": "stdout",
     "output_type": "stream",
     "text": [
      "1010\n"
     ]
    }
   ],
   "source": [
    "bin = \"{0:b}\".format(10)\n",
    "print(bin)"
   ]
  },
  {
   "cell_type": "code",
   "execution_count": 21,
   "metadata": {},
   "outputs": [
    {
     "data": {
      "text/plain": [
       "17"
      ]
     },
     "execution_count": 21,
     "metadata": {},
     "output_type": "execute_result"
    }
   ],
   "source": [
    "# or use int() function\n",
    "# int( number to convert, base of the number)\n",
    "\n",
    "int('00010001', 2)"
   ]
  },
  {
   "cell_type": "code",
   "execution_count": 6,
   "metadata": {
    "scrolled": true
   },
   "outputs": [
    {
     "data": {
      "text/plain": [
       "51"
      ]
     },
     "execution_count": 6,
     "metadata": {},
     "output_type": "execute_result"
    }
   ],
   "source": [
    "# a = 49    0011 0001\n",
    "# b = 19    0001 0011\n",
    "\n",
    "a | b      #0011 0011"
   ]
  },
  {
   "cell_type": "markdown",
   "metadata": {},
   "source": [
    "int('00110011', 2)"
   ]
  },
  {
   "cell_type": "code",
   "execution_count": 10,
   "metadata": {},
   "outputs": [
    {
     "data": {
      "text/plain": [
       "-50"
      ]
     },
     "execution_count": 10,
     "metadata": {},
     "output_type": "execute_result"
    }
   ],
   "source": [
    "a=49    # a = 49    0011 0001\n",
    "~a         #1100 1110"
   ]
  },
  {
   "cell_type": "code",
   "execution_count": 45,
   "metadata": {},
   "outputs": [
    {
     "data": {
      "text/plain": [
       "206"
      ]
     },
     "execution_count": 45,
     "metadata": {},
     "output_type": "execute_result"
    }
   ],
   "source": [
    "int('11001110', 2)"
   ]
  },
  {
   "cell_type": "markdown",
   "metadata": {},
   "source": [
    "### Negative numbers in two's complement\n",
    "\n",
    "    1100 1110\n",
    "    1 100 1110\n",
    "    1 011 0001  = 2**5 + 2**4 + 2**0 = 32 + 16 + 1 = 49 \n",
    "    +        1  = 49 + 1 = 50 \n",
    "    -----------------------------\n",
    "    -50"
   ]
  },
  {
   "cell_type": "code",
   "execution_count": 8,
   "metadata": {},
   "outputs": [
    {
     "data": {
      "text/plain": [
       "206"
      ]
     },
     "execution_count": 8,
     "metadata": {},
     "output_type": "execute_result"
    }
   ],
   "source": [
    "# Looking at bits, it is impossible to determine whether it is a \n",
    "# negative number in two's complement or not.\n",
    "\n",
    "int('11001110', 2)"
   ]
  },
  {
   "cell_type": "code",
   "execution_count": 9,
   "metadata": {},
   "outputs": [
    {
     "data": {
      "text/plain": [
       "'-0b110010'"
      ]
     },
     "execution_count": 9,
     "metadata": {},
     "output_type": "execute_result"
    }
   ],
   "source": [
    "bin(-50)"
   ]
  },
  {
   "cell_type": "code",
   "execution_count": 32,
   "metadata": {},
   "outputs": [
    {
     "data": {
      "text/plain": [
       "98"
      ]
     },
     "execution_count": 32,
     "metadata": {},
     "output_type": "execute_result"
    }
   ],
   "source": [
    "# a = 49    0011 0001\n",
    "\n",
    "a << 1     #0110 0010"
   ]
  },
  {
   "cell_type": "code",
   "execution_count": 33,
   "metadata": {},
   "outputs": [
    {
     "data": {
      "text/plain": [
       "98"
      ]
     },
     "execution_count": 33,
     "metadata": {},
     "output_type": "execute_result"
    }
   ],
   "source": [
    "int('01100010', 2)"
   ]
  },
  {
   "cell_type": "code",
   "execution_count": 40,
   "metadata": {},
   "outputs": [
    {
     "name": "stdout",
     "output_type": "stream",
     "text": [
      "196\n",
      "196\n"
     ]
    }
   ],
   "source": [
    "# a = 49            0011 0001\n",
    "print(a << 2)     #0011000100\n",
    "print(int('11000100', 2))"
   ]
  },
  {
   "cell_type": "code",
   "execution_count": 41,
   "metadata": {},
   "outputs": [
    {
     "name": "stdout",
     "output_type": "stream",
     "text": [
      "392\n",
      "392\n"
     ]
    }
   ],
   "source": [
    "# a = 49             0011 0001\n",
    "print(a << 3)     #00110001000\n",
    "print(int('110001000', 2))"
   ]
  },
  {
   "cell_type": "code",
   "execution_count": 42,
   "metadata": {},
   "outputs": [
    {
     "name": "stdout",
     "output_type": "stream",
     "text": [
      "24\n",
      "24\n"
     ]
    }
   ],
   "source": [
    "# a = 49            00110001\n",
    "\n",
    "print(a >> 1)     # 00011000\n",
    "print(int('00011000', 2))"
   ]
  },
  {
   "cell_type": "code",
   "execution_count": 43,
   "metadata": {},
   "outputs": [
    {
     "name": "stdout",
     "output_type": "stream",
     "text": [
      "6\n",
      "6\n"
     ]
    }
   ],
   "source": [
    "# a = 49            00110001\n",
    "\n",
    "print(a >> 3)     # 0000 0110\n",
    "print(int('00000110', 2))"
   ]
  },
  {
   "cell_type": "markdown",
   "metadata": {},
   "source": [
    "### Exercise 1\n",
    "Write the result of following bitwise operation when :\n",
    "\n",
    "    a = 12\n",
    "    b = 15\n",
    "\n",
    "    a & b"
   ]
  },
  {
   "cell_type": "code",
   "execution_count": 11,
   "metadata": {},
   "outputs": [
    {
     "name": "stdout",
     "output_type": "stream",
     "text": [
      "12\n"
     ]
    }
   ],
   "source": [
    "a=12\n",
    "b=15\n",
    "print(a & b)"
   ]
  },
  {
   "cell_type": "markdown",
   "metadata": {},
   "source": [
    "### Conditional Statement"
   ]
  },
  {
   "cell_type": "markdown",
   "metadata": {},
   "source": [
    "#### IF Statement"
   ]
  },
  {
   "cell_type": "code",
   "execution_count": 16,
   "metadata": {},
   "outputs": [
    {
     "name": "stdout",
     "output_type": "stream",
     "text": [
      "This code executes no matter what\n"
     ]
    }
   ],
   "source": [
    "age = 16\n",
    "if age >= 18 :\n",
    "    print(\"You may vote.\")\n",
    "    \n",
    "print(\"This code executes no matter what\")      "
   ]
  },
  {
   "cell_type": "code",
   "execution_count": 14,
   "metadata": {},
   "outputs": [
    {
     "name": "stdout",
     "output_type": "stream",
     "text": [
      "This code executes no matter what\n"
     ]
    }
   ],
   "source": [
    "age = 9\n",
    "if age >= 18 :\n",
    "    print(\"You may vote.\")\n",
    "    print(\"I am here\")\n",
    "    \n",
    "print(\"This code executes no matter what\")      "
   ]
  },
  {
   "cell_type": "markdown",
   "metadata": {},
   "source": [
    "#### IF/ELSE Statement"
   ]
  },
  {
   "cell_type": "code",
   "execution_count": 35,
   "metadata": {},
   "outputs": [
    {
     "name": "stdout",
     "output_type": "stream",
     "text": [
      "You are too young to vote.\n",
      "Come back in 12 years\n",
      "This code executes no matter what\n"
     ]
    }
   ],
   "source": [
    "age = 6\n",
    "if age >= 18 :\n",
    "    print(\"You may vote.\")\n",
    "else :\n",
    "    print(\"You are too young to vote.\")\n",
    "    print(f\"Come back in {18 - age} years\") \n",
    "    \n",
    "print(\"This code executes no matter what\")   "
   ]
  },
  {
   "cell_type": "code",
   "execution_count": 17,
   "metadata": {},
   "outputs": [],
   "source": [
    "def check_age(age) :\n",
    "    if age >= 18 :\n",
    "        print(\"You may vote.\")\n",
    "    else :\n",
    "        print(\"You are too young to vote.\")\n",
    "        print(f\"Come back in {18 - age} years\") \n",
    "    "
   ]
  },
  {
   "cell_type": "code",
   "execution_count": 47,
   "metadata": {},
   "outputs": [
    {
     "name": "stdout",
     "output_type": "stream",
     "text": [
      "Enter your age: 14\n",
      "You are too young to vote.\n",
      "Come back in 4 years\n",
      "Bye!\n"
     ]
    }
   ],
   "source": [
    "age = int(input(\"Enter your age: \"))\n",
    "check_age(age)\n",
    "print(\"Bye!\")"
   ]
  },
  {
   "cell_type": "code",
   "execution_count": 55,
   "metadata": {},
   "outputs": [],
   "source": [
    "def check_score(arg) :\n",
    "    if arg >= 60 :\n",
    "        print(\"You passed\")\n",
    "    else :\n",
    "        print(\"You failed\")"
   ]
  },
  {
   "cell_type": "code",
   "execution_count": 56,
   "metadata": {},
   "outputs": [
    {
     "name": "stdout",
     "output_type": "stream",
     "text": [
      "Enter a score: 43\n",
      "You failed\n",
      "Bye!\n"
     ]
    }
   ],
   "source": [
    "score = int(input(\"Enter a score: \"))\n",
    "check_score(score)\n",
    "print(\"Bye!\")"
   ]
  },
  {
   "cell_type": "markdown",
   "metadata": {},
   "source": [
    "### Exercise 2\n",
    "<b>even_number</b> function returns boolean values:\n",
    "    \n",
    "    <b>True</b> if a number is an even number \n",
    "    <b>False</b> if a number is an odd number\n",
    "\n",
    "Then, in the main program, ask a user for a number and display whether the number is an <b>even</b> or <b>odd</b> number.\n",
    "\n",
    "Fix/modify code to show output something like this:\n",
    "\n",
    "        Enter a number: 10\n",
    "        10 is an even number.\n",
    "        \n",
    "        Enter a number: 11\n",
    "        11 is an odd number."
   ]
  },
  {
   "cell_type": "code",
   "execution_count": 57,
   "metadata": {},
   "outputs": [],
   "source": [
    "def evennumber(arg) :\n",
    "    if (arg % 2) == 0 :\n",
    "        retval = true\n",
    "    else :\n",
    "        retval = false\n",
    "        \n",
    "    return arg    \n",
    "        "
   ]
  },
  {
   "cell_type": "code",
   "execution_count": 60,
   "metadata": {},
   "outputs": [
    {
     "name": "stdout",
     "output_type": "stream",
     "text": [
      "Enter a number: 6\n"
     ]
    },
    {
     "ename": "NameError",
     "evalue": "name 'evennumber' is not defined",
     "output_type": "error",
     "traceback": [
      "\u001b[1;31m---------------------------------------------------------------------------\u001b[0m",
      "\u001b[1;31mNameError\u001b[0m                                 Traceback (most recent call last)",
      "\u001b[1;32m<ipython-input-60-f811a32acfb4>\u001b[0m in \u001b[0;36m<module>\u001b[1;34m\u001b[0m\n\u001b[0;32m      1\u001b[0m \u001b[0mnumb\u001b[0m \u001b[1;33m=\u001b[0m \u001b[0mint\u001b[0m\u001b[1;33m(\u001b[0m\u001b[0minput\u001b[0m\u001b[1;33m(\u001b[0m\u001b[1;34m\"Enter a number: \"\u001b[0m\u001b[1;33m)\u001b[0m\u001b[1;33m)\u001b[0m\u001b[1;33m\u001b[0m\u001b[1;33m\u001b[0m\u001b[0m\n\u001b[0;32m      2\u001b[0m \u001b[1;33m\u001b[0m\u001b[0m\n\u001b[1;32m----> 3\u001b[1;33m \u001b[1;32mif\u001b[0m  \u001b[0mevennumber\u001b[0m\u001b[1;33m(\u001b[0m\u001b[0mnumb\u001b[0m\u001b[1;33m)\u001b[0m \u001b[1;33m:\u001b[0m\u001b[1;33m\u001b[0m\u001b[1;33m\u001b[0m\u001b[0m\n\u001b[0m\u001b[0;32m      4\u001b[0m     \u001b[0mprint\u001b[0m\u001b[1;33m(\u001b[0m\u001b[1;34mf\"{numb} is an even number.\"\u001b[0m\u001b[1;33m)\u001b[0m\u001b[1;33m\u001b[0m\u001b[1;33m\u001b[0m\u001b[0m\n\u001b[0;32m      5\u001b[0m \u001b[1;32melse\u001b[0m \u001b[1;33m:\u001b[0m\u001b[1;33m\u001b[0m\u001b[1;33m\u001b[0m\u001b[0m\n",
      "\u001b[1;31mNameError\u001b[0m: name 'evennumber' is not defined"
     ]
    }
   ],
   "source": [
    "numb = int(input(\"Enter a number: \")) \n",
    "\n",
    "if  evennumber(numb) :    \n",
    "    print(f\"{numb} is an even number.\")\n",
    "else :\n",
    "    print(f\"{numb} is an odd number.\")\n",
    "    "
   ]
  },
  {
   "cell_type": "code",
   "execution_count": null,
   "metadata": {},
   "outputs": [],
   "source": []
  },
  {
   "cell_type": "code",
   "execution_count": null,
   "metadata": {},
   "outputs": [],
   "source": []
  },
  {
   "cell_type": "code",
   "execution_count": null,
   "metadata": {},
   "outputs": [],
   "source": []
  },
  {
   "cell_type": "markdown",
   "metadata": {},
   "source": [
    "#### IF/ELIF Statement"
   ]
  },
  {
   "cell_type": "code",
   "execution_count": 45,
   "metadata": {},
   "outputs": [
    {
     "name": "stdout",
     "output_type": "stream",
     "text": [
      "Check your eyes\n",
      "This code executes no matter what\n"
     ]
    }
   ],
   "source": [
    "light_color = \"green\"\n",
    "light_color = \"yellow\"\n",
    "#light_color = \"red\"\n",
    "light_color = \"blue\"\n",
    "\n",
    "if light_color == \"green\" :\n",
    "    print(\"Go\")\n",
    "elif light_color == \"yellow\" :\n",
    "    print(\"Proceed with caution\")\n",
    "elif light_color == \"red\" :\n",
    "    print(\"Stop\")\n",
    "else :\n",
    "    print(\"Check your eyes\")\n",
    "    \n",
    "print(\"This code executes no matter what\")    "
   ]
  },
  {
   "cell_type": "code",
   "execution_count": 46,
   "metadata": {},
   "outputs": [],
   "source": [
    "def traffic_light(color) :\n",
    "    print(f\"Light is {color}\", end=', ')\n",
    "    \n",
    "    if color == \"green\" :\n",
    "        print(\"go.\")\n",
    "    elif color == \"yellow\" :\n",
    "        print(\"proceed with caution.\")\n",
    "    elif color != \"red\" :\n",
    "        print(\"check your eyes.\")\n",
    "    else :\n",
    "        print(\"stop.\")"
   ]
  },
  {
   "cell_type": "code",
   "execution_count": 47,
   "metadata": {},
   "outputs": [
    {
     "name": "stdout",
     "output_type": "stream",
     "text": [
      "Light is green, go.\n",
      "Light is yellow, proceed with caution.\n",
      "Light is read, check your eyes.\n",
      "Light is red, stop.\n"
     ]
    }
   ],
   "source": [
    "traffic_light(\"green\")     \n",
    "traffic_light(\"yellow\")        \n",
    "traffic_light(\"read\")    \n",
    "traffic_light(\"red\")         "
   ]
  },
  {
   "cell_type": "code",
   "execution_count": 48,
   "metadata": {},
   "outputs": [],
   "source": [
    "def school(age) :\n",
    "    if age < 7 :\n",
    "        print(\"Kindergarten\")\n",
    "    else : \n",
    "        if age < 13 :\n",
    "            print (\"Elementary School\")\n",
    "        else :\n",
    "            if age < 15 :\n",
    "                print (\"Middle School\")\n",
    "            else :\n",
    "                if age < 19 :\n",
    "                    print(\"High School\")\n",
    "                else :\n",
    "                    print(\"Adult\")"
   ]
  },
  {
   "cell_type": "code",
   "execution_count": 49,
   "metadata": {},
   "outputs": [
    {
     "name": "stdout",
     "output_type": "stream",
     "text": [
      "Kindergarten\n",
      "Adult\n",
      "Elementary School\n",
      "High School\n"
     ]
    }
   ],
   "source": [
    "school(6)\n",
    "school(26)\n",
    "school(12)\n",
    "school(16)"
   ]
  },
  {
   "cell_type": "code",
   "execution_count": 50,
   "metadata": {},
   "outputs": [],
   "source": [
    "def school2(age) :\n",
    "    if age < 7 :\n",
    "        print(\"Kindergarten\")\n",
    "    elif age < 13 :\n",
    "        print (\"Elementary School\")\n",
    "    elif age < 15 :\n",
    "        print (\"Middle School\")\n",
    "    elif age < 19 :\n",
    "        print(\"High School\")\n",
    "    else :\n",
    "        print(\"Adult\")"
   ]
  },
  {
   "cell_type": "code",
   "execution_count": null,
   "metadata": {},
   "outputs": [],
   "source": [
    "school2(6)\n",
    "school2(26)\n",
    "school2(12)\n",
    "school2(16)"
   ]
  },
  {
   "cell_type": "markdown",
   "metadata": {},
   "source": [
    "### Exercise 3\n",
    "Your team is tasked to write a function to suggest a beverage based on an age. \n",
    "Your function will be called by a main program as written in below cell. \n",
    "\n",
    "After talking with a customer, you found out that:\n",
    "1. legal age for drinking is 21. \n",
    "2. options for beverage are beer, milk, and soda. \n",
    "\n",
    "\n",
    "Both function and main program contain syntax errors and logical error. Fix errors and run to show it works."
   ]
  },
  {
   "cell_type": "code",
   "execution_count": 17,
   "metadata": {},
   "outputs": [],
   "source": [
    "# original \n",
    "\n",
    "def beverage(age) :\n",
    "    if age > 21 :\n",
    "         print(\"Have some beer.\")    \n",
    "    elif age > 12 :\n",
    "         print(\"Have some soda.\")\n",
    "    else :\n",
    "         print(\"Have some milk\")\n",
    "        \n",
    "     \n",
    "    \n",
    "    return(age)   \n"
   ]
  },
  {
   "cell_type": "code",
   "execution_count": 18,
   "metadata": {},
   "outputs": [
    {
     "name": "stdout",
     "output_type": "stream",
     "text": [
      "Enter age: 11\n"
     ]
    },
    {
     "ename": "NameError",
     "evalue": "name 'years' is not defined",
     "output_type": "error",
     "traceback": [
      "\u001b[1;31m---------------------------------------------------------------------------\u001b[0m",
      "\u001b[1;31mNameError\u001b[0m                                 Traceback (most recent call last)",
      "\u001b[1;32m<ipython-input-18-bdc4a1603745>\u001b[0m in \u001b[0;36m<module>\u001b[1;34m\u001b[0m\n\u001b[0;32m      2\u001b[0m \u001b[1;33m\u001b[0m\u001b[0m\n\u001b[0;32m      3\u001b[0m \u001b[0mage\u001b[0m \u001b[1;33m=\u001b[0m \u001b[0mint\u001b[0m\u001b[1;33m(\u001b[0m\u001b[0minput\u001b[0m\u001b[1;33m(\u001b[0m\u001b[1;34m\"Enter age: \"\u001b[0m\u001b[1;33m)\u001b[0m\u001b[1;33m)\u001b[0m\u001b[1;33m\u001b[0m\u001b[1;33m\u001b[0m\u001b[0m\n\u001b[1;32m----> 4\u001b[1;33m \u001b[0mprint\u001b[0m\u001b[1;33m(\u001b[0m\u001b[0mbeverage\u001b[0m\u001b[1;33m(\u001b[0m\u001b[0myears\u001b[0m\u001b[1;33m)\u001b[0m\u001b[1;33m)\u001b[0m\u001b[1;33m\u001b[0m\u001b[1;33m\u001b[0m\u001b[0m\n\u001b[0m\u001b[0;32m      5\u001b[0m \u001b[1;33m\u001b[0m\u001b[0m\n\u001b[0;32m      6\u001b[0m \u001b[0myears\u001b[0m \u001b[1;33m=\u001b[0m \u001b[0mint\u001b[0m\u001b[1;33m(\u001b[0m\u001b[0minput\u001b[0m\u001b[1;33m(\u001b[0m\u001b[1;34m\"Enter age: \"\u001b[0m\u001b[1;33m)\u001b[0m\u001b[1;33m)\u001b[0m\u001b[1;33m\u001b[0m\u001b[1;33m\u001b[0m\u001b[0m\n",
      "\u001b[1;31mNameError\u001b[0m: name 'years' is not defined"
     ]
    }
   ],
   "source": [
    "# main program\n",
    "\n",
    "age = int(input(\"Enter age: \"))\n",
    "print(beverage(years))\n",
    "\n",
    "years = int(input(\"Enter age: \"))\n",
    "print(beverage(age))\n",
    "\n",
    "years = int(input(\"Enter age: \"))\n",
    "print(beverage(years))\n"
   ]
  },
  {
   "cell_type": "code",
   "execution_count": null,
   "metadata": {},
   "outputs": [],
   "source": []
  },
  {
   "cell_type": "code",
   "execution_count": null,
   "metadata": {},
   "outputs": [],
   "source": []
  },
  {
   "cell_type": "markdown",
   "metadata": {},
   "source": [
    "### Excepion Handling"
   ]
  },
  {
   "cell_type": "code",
   "execution_count": 10,
   "metadata": {},
   "outputs": [
    {
     "name": "stdout",
     "output_type": "stream",
     "text": [
      "5.0\n"
     ]
    },
    {
     "ename": "ZeroDivisionError",
     "evalue": "division by zero",
     "output_type": "error",
     "traceback": [
      "\u001b[1;31m---------------------------------------------------------------------------\u001b[0m",
      "\u001b[1;31mZeroDivisionError\u001b[0m                         Traceback (most recent call last)",
      "\u001b[1;32m<ipython-input-10-72f7584d8f8c>\u001b[0m in \u001b[0;36m<module>\u001b[1;34m\u001b[0m\n\u001b[0;32m      2\u001b[0m \u001b[1;33m\u001b[0m\u001b[0m\n\u001b[0;32m      3\u001b[0m \u001b[0mprint\u001b[0m\u001b[1;33m(\u001b[0m\u001b[1;36m10\u001b[0m \u001b[1;33m/\u001b[0m \u001b[1;36m2\u001b[0m\u001b[1;33m)\u001b[0m\u001b[1;33m\u001b[0m\u001b[1;33m\u001b[0m\u001b[0m\n\u001b[1;32m----> 4\u001b[1;33m \u001b[0mprint\u001b[0m\u001b[1;33m(\u001b[0m\u001b[1;36m10\u001b[0m \u001b[1;33m/\u001b[0m \u001b[1;36m0\u001b[0m\u001b[1;33m)\u001b[0m\u001b[1;33m\u001b[0m\u001b[1;33m\u001b[0m\u001b[0m\n\u001b[0m\u001b[0;32m      5\u001b[0m \u001b[0mprint\u001b[0m\u001b[1;33m(\u001b[0m\u001b[1;36m10\u001b[0m \u001b[1;33m/\u001b[0m \u001b[1;36m5\u001b[0m\u001b[1;33m)\u001b[0m\u001b[1;33m\u001b[0m\u001b[1;33m\u001b[0m\u001b[0m\n",
      "\u001b[1;31mZeroDivisionError\u001b[0m: division by zero"
     ]
    }
   ],
   "source": [
    "# Exception Error Handling\n",
    "\n",
    "print(10 / 2)\n",
    "print(10 / 0)\n",
    "print(10 / 5)\n"
   ]
  },
  {
   "cell_type": "code",
   "execution_count": 11,
   "metadata": {},
   "outputs": [],
   "source": [
    "def test(parm1, parm2) :\n",
    "    print(f\"In test with parm1={parm1} parm2={parm2}\")\n",
    "    \n",
    "    try:\n",
    "        retval = parm1/parm2\n",
    "    except :\n",
    "        retval = 0\n",
    "        \n",
    "    return retval   \n"
   ]
  },
  {
   "cell_type": "code",
   "execution_count": 12,
   "metadata": {},
   "outputs": [
    {
     "name": "stdout",
     "output_type": "stream",
     "text": [
      "In test with parm1=10 parm2=5\n",
      "result=2.0\n",
      "********************\n"
     ]
    }
   ],
   "source": [
    "print(f\"result={test(10, 5)}\")\n",
    "print(\"*\" * 20)"
   ]
  },
  {
   "cell_type": "code",
   "execution_count": 13,
   "metadata": {},
   "outputs": [
    {
     "name": "stdout",
     "output_type": "stream",
     "text": [
      "In test with parm1=10 parm2=0\n",
      "result=0\n",
      "********************\n"
     ]
    }
   ],
   "source": [
    "print(f\"result={test(10, 0)}\")\n",
    "print(\"*\" * 20)"
   ]
  },
  {
   "cell_type": "code",
   "execution_count": 15,
   "metadata": {},
   "outputs": [
    {
     "name": "stdout",
     "output_type": "stream",
     "text": [
      "Enter first number: 5\n",
      "Enter second number: 0\n",
      "In divide with parm1=5 parm2=0\n",
      "***ERROR:  <class 'ZeroDivisionError'> occurred.\n",
      "Next entry.\n",
      "result=0\n",
      "********************\n"
     ]
    }
   ],
   "source": [
    "# import module sys to get the type of exception\n",
    "import sys\n",
    "\n",
    "def divide(parm1, parm2) :\n",
    "    print(f\"In divide with parm1={parm1} parm2={parm2}\")\n",
    "        \n",
    "    try:\n",
    "        retval = parm1/parm2\n",
    "    except:\n",
    "        \n",
    "        print(\"***ERROR: \", sys.exc_info()[0], \"occurred.\")\n",
    "        print(\"Next entry.\")\n",
    "        retval = 0\n",
    "        \n",
    "    return retval   \n",
    "\n",
    "val1 = int(input(\"Enter first number: \"))\n",
    "val2 = int(input(\"Enter second number: \")) \n",
    "print(f\"result={divide(val1, val2)}\")\n",
    "print(\"*\" * 20)"
   ]
  },
  {
   "cell_type": "code",
   "execution_count": 49,
   "metadata": {},
   "outputs": [
    {
     "name": "stdout",
     "output_type": "stream",
     "text": [
      "Enter first number: 15\n",
      "Enter second number: 5\n",
      "In divide with parm1=15 parm2=5\n",
      "result=3.0\n",
      "********************\n"
     ]
    }
   ],
   "source": [
    "val1 = int(input(\"Enter first number: \"))\n",
    "val2 = int(input(\"Enter second number: \")) \n",
    "print(f\"result={divide(val1, val2)}\")\n",
    "print(\"*\" * 20)"
   ]
  },
  {
   "cell_type": "markdown",
   "metadata": {},
   "source": [
    "### Exercise 4\n",
    "Write a program that prompts for an integer. Catch an exception error if input value is not an integer and print a friendly error message. \n",
    "The output should look something like this:\n",
    "\n",
    "    Enter an integer: 123.0\n",
    "    *** ERROR: 123.0 is not an integer\n",
    "\n",
    "    Enter an integer: abc\n",
    "    *** ERROR: abc is not an integer\n",
    "\n",
    "    Enter an integer: 123\n",
    "    123 is an integer"
   ]
  },
  {
   "cell_type": "code",
   "execution_count": 2,
   "metadata": {},
   "outputs": [],
   "source": []
  },
  {
   "cell_type": "code",
   "execution_count": 17,
   "metadata": {},
   "outputs": [
    {
     "name": "stdout",
     "output_type": "stream",
     "text": [
      "\n",
      "Enter an integer: 5\n",
      "5 is an integer\n",
      "********************\n",
      "\n",
      "Enter an integer: abc\n",
      "***ERROR: abc is not an integer\n",
      "********************\n",
      "\n",
      "Enter an integer: 5.2\n",
      "***ERROR: 5.2 is not an integer\n",
      "********************\n"
     ]
    }
   ],
   "source": []
  },
  {
   "cell_type": "code",
   "execution_count": null,
   "metadata": {},
   "outputs": [],
   "source": []
  },
  {
   "cell_type": "code",
   "execution_count": 18,
   "metadata": {},
   "outputs": [],
   "source": [
    "# Or...\n",
    "\n",
    "\n",
    "import sys\n",
    "\n",
    "def check_integer2(parm1) :\n",
    "        \n",
    "    try:\n",
    "        retval = int(parm1)\n",
    "        retval = True\n",
    "    except:\n",
    "        print(f\"***ERROR: {parm1} is not an integer\")\n",
    "        print(\"***ERROR: \", sys.exc_info()[0], \"occurred.\")        \n",
    "        retval = False\n",
    "        \n",
    "    return retval   \n"
   ]
  },
  {
   "cell_type": "code",
   "execution_count": 19,
   "metadata": {},
   "outputs": [
    {
     "name": "stdout",
     "output_type": "stream",
     "text": [
      "Enter an integer: 5\n",
      "5 is an integer\n",
      "********************\n",
      "\n",
      "Enter an integer: abc\n",
      "***ERROR: abc is not an integer\n",
      "***ERROR:  <class 'ValueError'> occurred.\n",
      "********************\n",
      "\n",
      "Enter an integer: 2.0\n",
      "***ERROR: 2.0 is not an integer\n",
      "***ERROR:  <class 'ValueError'> occurred.\n",
      "********************\n"
     ]
    }
   ],
   "source": [
    "val1 = input(\"Enter an integer: \")\n",
    "if (check_integer2(val1)) :\n",
    "    print(f\"{val1} is an integer\")\n",
    "\n",
    "print(\"*\" * 20)\n",
    "val1 = input(\"\\nEnter an integer: \")\n",
    "if (check_integer2(val1)) :\n",
    "    print(f\"{val1} is an integer\")\n",
    "    \n",
    "print(\"*\" * 20)\n",
    "val1 = input(\"\\nEnter an integer: \")\n",
    "if (check_integer2(val1)) :\n",
    "    print(f\"{val1} is an integer\")\n",
    "print(\"*\" * 20)    "
   ]
  },
  {
   "cell_type": "code",
   "execution_count": 21,
   "metadata": {},
   "outputs": [
    {
     "name": "stdout",
     "output_type": "stream",
     "text": [
      "Variable z_a is not defined\n"
     ]
    }
   ],
   "source": [
    "# Catch specific exception error\n",
    "\n",
    "try :\n",
    "    print(z_a)\n",
    "except NameError :\n",
    "    print(\"Variable z_a is not defined\")\n",
    "except :\n",
    "    print(\"Something else went wrong\")"
   ]
  },
  {
   "cell_type": "code",
   "execution_count": 24,
   "metadata": {},
   "outputs": [
    {
     "name": "stdout",
     "output_type": "stream",
     "text": [
      "Variable x is not defined\n",
      "All done.\n"
     ]
    }
   ],
   "source": [
    "x = 1\n",
    "\n",
    "try :\n",
    "    print(xy)\n",
    "    \n",
    "except NameError :\n",
    "    print(\"Variable x is not defined\")\n",
    "    \n",
    "except :\n",
    "    print(\"Something else went wrong\")\n",
    "    \n",
    "else :\n",
    "    print(\"All went well.\")\n",
    "    \n",
    "finally :\n",
    "    print(\"All done.\")"
   ]
  },
  {
   "cell_type": "code",
   "execution_count": 10,
   "metadata": {},
   "outputs": [
    {
     "ename": "TypeError",
     "evalue": "Only integers",
     "output_type": "error",
     "traceback": [
      "\u001b[1;31m---------------------------------------------------------------------------\u001b[0m",
      "\u001b[1;31mTypeError\u001b[0m                                 Traceback (most recent call last)",
      "\u001b[1;32m<ipython-input-10-f6d58ff92b36>\u001b[0m in \u001b[0;36m<module>\u001b[1;34m\u001b[0m\n\u001b[0;32m      2\u001b[0m \u001b[1;33m\u001b[0m\u001b[0m\n\u001b[0;32m      3\u001b[0m \u001b[1;32mif\u001b[0m \u001b[0mtype\u001b[0m\u001b[1;33m(\u001b[0m\u001b[0mx\u001b[0m\u001b[1;33m)\u001b[0m \u001b[1;32mis\u001b[0m \u001b[1;32mnot\u001b[0m \u001b[0mint\u001b[0m \u001b[1;33m:\u001b[0m\u001b[1;33m\u001b[0m\u001b[1;33m\u001b[0m\u001b[0m\n\u001b[1;32m----> 4\u001b[1;33m     \u001b[1;32mraise\u001b[0m \u001b[0mTypeError\u001b[0m\u001b[1;33m(\u001b[0m\u001b[1;34m\"Only integers\"\u001b[0m\u001b[1;33m)\u001b[0m\u001b[1;33m\u001b[0m\u001b[1;33m\u001b[0m\u001b[0m\n\u001b[0m\u001b[0;32m      5\u001b[0m \u001b[1;33m\u001b[0m\u001b[0m\n",
      "\u001b[1;31mTypeError\u001b[0m: Only integers"
     ]
    }
   ],
   "source": [
    "# raise exception error - force an exception error\n",
    "\n",
    "x = \"hello\"\n",
    "\n",
    "if type(x) is not int :\n",
    "    raise TypeError(\"Only integers\")\n",
    "    "
   ]
  },
  {
   "cell_type": "code",
   "execution_count": 13,
   "metadata": {},
   "outputs": [
    {
     "name": "stdout",
     "output_type": "stream",
     "text": [
      "Something else\n",
      "Done\n"
     ]
    }
   ],
   "source": [
    "x = 2    \n",
    "\n",
    "try :\n",
    "    if x < 10 :\n",
    "        raise SyntaxError()\n",
    "#        raise TypeError()\n",
    "#        raise ValueError()\n",
    "    \n",
    "    y = int(x)\n",
    "    \n",
    "except TypeError: \n",
    "    print(\"TypeError\")\n",
    "except ValueError:\n",
    "    print(\"ValueError\")\n",
    "except :\n",
    "    print(\"Something else\" )\n",
    "    \n",
    "print(\"Done\")    "
   ]
  },
  {
   "cell_type": "code",
   "execution_count": null,
   "metadata": {},
   "outputs": [],
   "source": []
  }
 ],
 "metadata": {
  "kernelspec": {
   "display_name": "Python 3",
   "language": "python",
   "name": "python3"
  },
  "language_info": {
   "codemirror_mode": {
    "name": "ipython",
    "version": 3
   },
   "file_extension": ".py",
   "mimetype": "text/x-python",
   "name": "python",
   "nbconvert_exporter": "python",
   "pygments_lexer": "ipython3",
   "version": "3.8.8"
  }
 },
 "nbformat": 4,
 "nbformat_minor": 2
}
